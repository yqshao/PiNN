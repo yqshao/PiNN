{
 "cells": [
  {
   "cell_type": "markdown",
   "id": "e89da443-220a-4b9a-bbd7-b2a1a566022a",
   "metadata": {},
   "source": [
    "# Debugging PiNN layers and networks [![Open In Colab](https://colab.research.google.com/assets/colab-badge.svg)](https://colab.research.google.com/github/Teoroo-CMC/PiNN/blob/master/docs/notebooks/Layer_debug.ipynb)"
   ]
  },
  {
   "cell_type": "code",
   "execution_count": 5,
   "id": "d7bc1d47-43b2-47c6-b2b0-feb28537474b",
   "metadata": {},
   "outputs": [],
   "source": [
    "# !pip install git+https://github.com/Teoroo-CMC/PiNN\n",
    "!wget -nv -nc https://raw.githubusercontent.com/Teoroo-CMC/PiNN_lab/master/resources/qm9_train.{yml,tfr}"
   ]
  },
  {
   "cell_type": "code",
   "execution_count": 1,
   "id": "b11ea463",
   "metadata": {},
   "outputs": [],
   "source": [
    "%load_ext autoreload\n",
    "%autoreload 2"
   ]
  },
  {
   "cell_type": "markdown",
   "id": "ed40d2c3-2f41-4da0-b1e7-b4aac1e33614",
   "metadata": {},
   "source": [
    "## Loading data\n",
    "\n",
    "For the purpose of testing we download a subset of the QM9 dataset used in [PiNN_lab](https://github.com/Teoroo-CMC/PiNN_lab)."
   ]
  },
  {
   "cell_type": "code",
   "execution_count": 2,
   "id": "fad78f2f-14b2-4a72-82ba-7615ecd3daa4",
   "metadata": {},
   "outputs": [
    {
     "name": "stderr",
     "output_type": "stream",
     "text": [
      "2023-10-09 15:48:59.608727: I tensorflow/tsl/cuda/cudart_stub.cc:28] Could not find cuda drivers on your machine, GPU will not be used.\n",
      "2023-10-09 15:48:59.637897: E tensorflow/compiler/xla/stream_executor/cuda/cuda_dnn.cc:9342] Unable to register cuDNN factory: Attempting to register factory for plugin cuDNN when one has already been registered\n",
      "2023-10-09 15:48:59.637947: E tensorflow/compiler/xla/stream_executor/cuda/cuda_fft.cc:609] Unable to register cuFFT factory: Attempting to register factory for plugin cuFFT when one has already been registered\n",
      "2023-10-09 15:48:59.637968: E tensorflow/compiler/xla/stream_executor/cuda/cuda_blas.cc:1518] Unable to register cuBLAS factory: Attempting to register factory for plugin cuBLAS when one has already been registered\n",
      "2023-10-09 15:48:59.644280: I tensorflow/tsl/cuda/cudart_stub.cc:28] Could not find cuda drivers on your machine, GPU will not be used.\n",
      "2023-10-09 15:48:59.645407: I tensorflow/core/platform/cpu_feature_guard.cc:182] This TensorFlow binary is optimized to use available CPU instructions in performance-critical operations.\n",
      "To enable the following instructions: AVX2 FMA, in other operations, rebuild TensorFlow with the appropriate compiler flags.\n",
      "2023-10-09 15:49:00.375438: W tensorflow/compiler/tf2tensorrt/utils/py_utils.cc:38] TF-TRT Warning: Could not find TensorRT\n"
     ]
    },
    {
     "name": "stdout",
     "output_type": "stream",
     "text": [
      "{'A': TensorShape([10]), 'B': TensorShape([10]), 'C': TensorShape([10]), 'Cv': TensorShape([10]), 'G': TensorShape([10]), 'H': TensorShape([10]), 'U': TensorShape([10]), 'U0': TensorShape([10]), 'alpha': TensorShape([10]), 'coord': TensorShape([176, 3]), 'elems': TensorShape([176]), 'gap': TensorShape([10]), 'homo': TensorShape([10]), 'lumo': TensorShape([10]), 'mu': TensorShape([10]), 'r2': TensorShape([10]), 'zpve': TensorShape([10]), 'ind_1': TensorShape([176, 1])}\n"
     ]
    }
   ],
   "source": [
    "from pinn.io import load_tfrecord, sparse_batch\n",
    "\n",
    "dataset = load_tfrecord(\"qm9_train.yml\").apply(sparse_batch(10))\n",
    "for datum in dataset:\n",
    "    print({k: v.shape for k, v in datum.items()})\n",
    "    break"
   ]
  },
  {
   "cell_type": "markdown",
   "id": "5eed3a0b-fc9b-4b49-933c-8c15c7f7bc52",
   "metadata": {},
   "source": [
    "## Using PiNN Layers\n",
    "\n",
    "PiNN networks and layers are Keras [Layers](https://www.tensorflow.org/api_docs/python/tf/keras/layers/Layer) \n",
    "and [Models](https://www.tensorflow.org/api_docs/python/tf/keras/Model). \n",
    "\n",
    "To use them, you create an instance of layer, after that, the layer object can be used as a function. Each layer\n",
    "is initialized with different parameters and requires different input tensors, see their individual documentation\n",
    "for the details."
   ]
  },
  {
   "cell_type": "code",
   "execution_count": 37,
   "id": "70540231-a925-48f5-825d-cc4f62604f5c",
   "metadata": {},
   "outputs": [
    {
     "name": "stdout",
     "output_type": "stream",
     "text": [
      "[176 3 16]\n",
      "[176 3 16]\n",
      "[176 3 16]\n",
      "[176 3 16]\n"
     ]
    },
    {
     "data": {
      "text/plain": [
       "<tf.Tensor: shape=(10,), dtype=float32, numpy=\n",
       "array([-0.09588242,  0.1565401 , -0.8049977 , -0.34934044, -0.9046093 ,\n",
       "       -1.272258  , -0.3640451 , -0.64601314, -1.4608136 , -0.2622609 ],\n",
       "      dtype=float32)>"
      ]
     },
     "execution_count": 37,
     "metadata": {},
     "output_type": "execute_result"
    }
   ],
   "source": [
    "from pinn.layers import CellListNL\n",
    "from pinn.networks.pinet2 import PILayer, PiNet2\n",
    "def label_data(data):\n",
    "    # defines the label to train on\n",
    "    x = data\n",
    "    y = data['lumo']\n",
    "    return x, y\n",
    "\n",
    "train = dataset.map(label_data)\n",
    "pinet = PiNet2(out_pool='min')\n",
    "\n",
    "#pinet(next(iter(train))[0])\n",
    "pinet.compile(optimizer='Adam', loss='MAE')\n",
    "pinet.fit(train, epochs=3)"
   ]
  },
  {
   "cell_type": "code",
   "execution_count": 33,
   "id": "6071d21b",
   "metadata": {},
   "outputs": [
    {
     "data": {
      "text/plain": [
       "TensorShape([176, 1])"
      ]
     },
     "execution_count": 33,
     "metadata": {},
     "output_type": "execute_result"
    }
   ],
   "source": [
    "next(iter(train))[0]['ind_1'].shape"
   ]
  },
  {
   "cell_type": "code",
   "execution_count": 15,
   "id": "3a2a1966",
   "metadata": {},
   "outputs": [
    {
     "data": {
      "text/plain": [
       "<__main__.PiNet2 at 0x7fda7683d270>"
      ]
     },
     "execution_count": 15,
     "metadata": {},
     "output_type": "execute_result"
    }
   ],
   "source": [
    "import tensorflow as tf\n",
    "\n",
    "class PiNet2(tf.keras.Model):\n",
    "    def __init__(self):\n",
    "        super(PiNet2, self).__init__()\n",
    "\n",
    "PiNet2()"
   ]
  },
  {
   "cell_type": "markdown",
   "id": "edbf453d-cca7-4982-9e35-cc811e6007fd",
   "metadata": {},
   "source": [
    "## Further benchmarks\n",
    "\n",
    "For more advanced usage you are recommended to use the `Model` API to define the trainig loss, derived predicates.\n",
    "For traininig potential energy surfaces, you are recommended to use `pinn.models.potential_model` in combination with the command line interface (CLI).\n",
    "\n",
    "Alternatively, see the [Trainig Tips](More_on_training.ipynb) notebook to see how to run the tranining interactively in a notebook."
   ]
  }
 ],
 "metadata": {
  "kernelspec": {
   "display_name": "Python 3",
   "language": "python",
   "name": "python3"
  },
  "language_info": {
   "codemirror_mode": {
    "name": "ipython",
    "version": 3
   },
   "file_extension": ".py",
   "mimetype": "text/x-python",
   "name": "python",
   "nbconvert_exporter": "python",
   "pygments_lexer": "ipython3",
   "version": "3.10.12"
  }
 },
 "nbformat": 4,
 "nbformat_minor": 5
}
